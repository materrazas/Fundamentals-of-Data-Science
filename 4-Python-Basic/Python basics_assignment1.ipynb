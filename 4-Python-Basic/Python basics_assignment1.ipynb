{
 "cells": [
  {
   "cell_type": "markdown",
   "metadata": {},
   "source": [
    "# Khipus.ai\n",
    "## Fundamentals of Data Science \n",
    "### Python basics:\n",
    "### Name : Marco Antonio Terrazas\n",
    "\n",
    "<span>© Copyright Notice 2025, Khipus.ai - All Rights Reserved.</span>\n",
    "\n",
    "# Assignment 1\n",
    "Welcome to the Python basics assignment. Complete the following tasks to practice your Python skills."
   ]
  },
  {
   "cell_type": "markdown",
   "metadata": {},
   "source": [
    "## Instructions\n",
    "1. Complete each task below by filling in the appropriate code in the provided cells.\n",
    "2. Ensure that your code runs without errors and produces the expected outputs.\n",
    "3. Submit your completed notebook as instructed by your instructor."
   ]
  },
  {
   "cell_type": "markdown",
   "metadata": {},
   "source": [
    "# Print Statement \n",
    "Write a print statement that outputs your name"
   ]
  },
  {
   "cell_type": "code",
   "execution_count": 20,
   "metadata": {},
   "outputs": [
    {
     "name": "stdout",
     "output_type": "stream",
     "text": [
      "Marco Antonio Terrazas\n"
     ]
    }
   ],
   "source": [
    "# Task 1: Print Statement Assignment\n",
    "\n",
    "# Write a print statement that outputs your name \n",
    "# Example print('My name is John Doe.')\n",
    "print('Marco Antonio Terrazas')"
   ]
  },
  {
   "cell_type": "markdown",
   "metadata": {},
   "source": [
    "# String Data Type \n",
    "Create a string variable name x that store this text: I love Python.\n",
    "\n",
    "Expected output:\n",
    "\n",
    "I love Python."
   ]
  },
  {
   "cell_type": "code",
   "execution_count": 11,
   "metadata": {},
   "outputs": [
    {
     "name": "stdout",
     "output_type": "stream",
     "text": [
      "I love Python\n"
     ]
    }
   ],
   "source": [
    "# Task 2: String Data Type Assignment\n",
    "\n",
    "# Create a string variable name x that store this text: I love Python.\n",
    "x = 'I love Python'\n",
    "print(x)"
   ]
  },
  {
   "cell_type": "markdown",
   "metadata": {},
   "source": [
    "# Numeric Types\n",
    "Define an integer an a float. Print each of them.\n",
    "\n",
    "int = 42\n",
    "float = 3.14\n",
    "\n",
    "Expected output:\n",
    "\n",
    "42\n",
    "\n",
    "3.14"
   ]
  },
  {
   "cell_type": "code",
   "execution_count": null,
   "metadata": {},
   "outputs": [
    {
     "name": "stdout",
     "output_type": "stream",
     "text": [
      "42 \n",
      " 3.14\n"
     ]
    }
   ],
   "source": [
    "# Task 3: Numeric Types Assignment\n",
    "\n",
    "# Define an integer an a float. Print each of them.\n",
    "\n",
    "entero = 42\n",
    "flotante = 3.14\n",
    "print(entero,'\\n', flotante) \n",
    "print (\"actualizado\")\n"
   ]
  },
  {
   "cell_type": "markdown",
   "metadata": {},
   "source": [
    "# List\n",
    "Create a list named countries that stores the following countries: 'USA', 'Canada', and 'Mexico and print the list.\n",
    "\n",
    "Expected output:\n",
    "\n",
    "['USA', 'Canada', 'Mexico']"
   ]
  },
  {
   "cell_type": "code",
   "execution_count": 21,
   "metadata": {},
   "outputs": [
    {
     "name": "stdout",
     "output_type": "stream",
     "text": [
      "['USA', 'Canada', 'Mexico']\n"
     ]
    }
   ],
   "source": [
    "# Task 4: List\n",
    "\n",
    "# Create a list named countries that stores the following countries: 'USA', 'Canada', and 'Mexico\n",
    "\n",
    "countries = ['USA', 'Canada', 'Mexico']\n",
    "print(countries)\n"
   ]
  },
  {
   "cell_type": "markdown",
   "metadata": {},
   "source": [
    "# List Manipulation Assignment\n",
    "Use the list of called fruits. Add a new fruit to the list 'pineapple'\n",
    "\n",
    "Expected output:\n",
    "\n",
    "['mango', 'papaya', 'kiwi', 'pineapple']"
   ]
  },
  {
   "cell_type": "code",
   "execution_count": 3,
   "metadata": {},
   "outputs": [
    {
     "name": "stdout",
     "output_type": "stream",
     "text": [
      "['mango', 'papaya', 'kiwi', 'pineapple']\n"
     ]
    }
   ],
   "source": [
    "# Task 5: List Manipulation Assignment\n",
    "\n",
    "# Use the list of called fruits\n",
    "fruits = ['mango', 'papaya', 'kiwi']\n",
    "\n",
    "# Add a new fruit to the list 'pineapple'\n",
    "fruits.append('pineapple')\n",
    "print(fruits)   \n"
   ]
  },
  {
   "cell_type": "code",
   "execution_count": null,
   "metadata": {},
   "outputs": [],
   "source": []
  },
  {
   "cell_type": "markdown",
   "metadata": {},
   "source": [
    "Change one of the fruits 'mango' with orange\n",
    "\n",
    "Expected output:\n",
    "\n",
    "['orange', 'papaya', 'kiwi', 'pineapple']"
   ]
  },
  {
   "cell_type": "code",
   "execution_count": 4,
   "metadata": {},
   "outputs": [
    {
     "name": "stdout",
     "output_type": "stream",
     "text": [
      "['orange', 'papaya', 'kiwi', 'pineapple']\n"
     ]
    }
   ],
   "source": [
    "# Task 6\n",
    "# Change one of the fruits 'mango' with orange\n",
    "fruits[0] = 'orange'\n",
    "print(fruits)\n"
   ]
  },
  {
   "cell_type": "markdown",
   "metadata": {},
   "source": [
    "Remove one fruit 'kiwi' from the list\n",
    "\n",
    "Expected output:\n",
    "\n",
    "['orange', 'papaya', 'pineapple']"
   ]
  },
  {
   "cell_type": "code",
   "execution_count": 16,
   "metadata": {},
   "outputs": [],
   "source": [
    "#Task 7\n",
    "# Remove one fruit 'kiwi' from the list\n",
    "#<Your code goes here>\n"
   ]
  },
  {
   "cell_type": "markdown",
   "metadata": {},
   "source": [
    "# Loops Assignment\n",
    "Write a for loop that prints the numbers from 1 to 10.\n",
    "\n",
    "Expected output:\n",
    "\n",
    "1\n",
    "2\n",
    "3\n",
    "4\n",
    "5\n",
    "6\n",
    "7\n",
    "8\n",
    "9\n",
    "10"
   ]
  },
  {
   "cell_type": "code",
   "execution_count": 17,
   "metadata": {},
   "outputs": [],
   "source": [
    "# Task 8: Loops Assignment\n",
    "\n",
    "# Write a for loop that prints the numbers from 1 to 10\n",
    "# <Your code goes here>\n"
   ]
  },
  {
   "cell_type": "markdown",
   "metadata": {},
   "source": [
    "# Functions Assignment\n",
    "Create a function called x that takes a name as an argument and returns Welcome to the Python basics assignment\n",
    "\n",
    "Output Example:\n",
    "\n",
    "Hello, John Doe! Welcome to the Python basics assignment"
   ]
  },
  {
   "cell_type": "code",
   "execution_count": 18,
   "metadata": {},
   "outputs": [],
   "source": [
    "# Task 9: Functions Assignment\n",
    "\n",
    "# Create a function called x that takes a name as an argument and returns Welcome to the Python basics assignment\n",
    "\n",
    "#<Your code goes here>\n"
   ]
  },
  {
   "cell_type": "markdown",
   "metadata": {},
   "source": [
    "Create a function called add_numbers that takes two numbers as arguments and returns their sum.\n",
    "\n",
    "Call the function with these numbers (5, 7) and print the result\n",
    "\n",
    "Expected output:\n",
    "\n",
    "\n",
    "12"
   ]
  },
  {
   "cell_type": "code",
   "execution_count": 19,
   "metadata": {},
   "outputs": [],
   "source": [
    "# Task 10: Function to Add Numbers\n",
    "\n",
    "# Create a function called add_numbers that takes two numbers as arguments and returns their sum\n",
    "# Your code goes here\n"
   ]
  },
  {
   "cell_type": "code",
   "execution_count": null,
   "metadata": {},
   "outputs": [],
   "source": []
  }
 ],
 "metadata": {
  "kernelspec": {
   "display_name": "Python 3",
   "language": "python",
   "name": "python3"
  },
  "language_info": {
   "codemirror_mode": {
    "name": "ipython",
    "version": 3
   },
   "file_extension": ".py",
   "mimetype": "text/x-python",
   "name": "python",
   "nbconvert_exporter": "python",
   "pygments_lexer": "ipython3",
   "version": "3.13.3"
  }
 },
 "nbformat": 4,
 "nbformat_minor": 2
}
